{
 "cells": [
  {
   "cell_type": "markdown",
   "metadata": {},
   "source": [
    "#### Importing all libraries"
   ]
  },
  {
   "cell_type": "code",
   "execution_count": null,
   "metadata": {},
   "outputs": [],
   "source": [
    "import pandas as PD\n",
    "import seaborn as SNS\n",
    "import matplotlib.pyplot as PLT\n",
    "import numpy as NP\n",
    "from numpy import sum"
   ]
  },
  {
   "cell_type": "code",
   "execution_count": null,
   "metadata": {},
   "outputs": [],
   "source": [
    "custom_colours = ['#74a09e','#98e2c6','#f2a553','#c14953']\n",
    "SNS.set_theme(style=\"whitegrid\",palette=custom_colours)"
   ]
  },
  {
   "cell_type": "markdown",
   "metadata": {},
   "source": [
    "#### Loading the dataset"
   ]
  },
  {
   "cell_type": "code",
   "execution_count": null,
   "metadata": {},
   "outputs": [],
   "source": [
    "raw_data = PD.read_csv(\"50_Startups.csv\", sep=\";\")\n",
    "data = raw_data.copy()"
   ]
  },
  {
   "cell_type": "markdown",
   "metadata": {},
   "source": [
    "#### Initial data exploration"
   ]
  },
  {
   "cell_type": "code",
   "execution_count": null,
   "metadata": {},
   "outputs": [],
   "source": [
    "data.info()"
   ]
  },
  {
   "cell_type": "markdown",
   "metadata": {},
   "source": [
    "This dataset has **50** entries in **5** columns. It has **no missing data**. **4** columns are **numerical** and **1** column is **categorical**."
   ]
  },
  {
   "cell_type": "code",
   "execution_count": null,
   "metadata": {},
   "outputs": [],
   "source": [
    "data.head()"
   ]
  },
  {
   "cell_type": "markdown",
   "metadata": {},
   "source": [
    "Columns are ordered as follows:\n",
    "- **3** columns detailing the **budget** each startup grants to each of their departments: **R&D**, **Administration** and **Marketing**.\n",
    "- **1** column detailing the **location** where the startup supposedly operates from.\n",
    "- **1** column detailing the **profit** each startup has made over an **unknown timespan**."
   ]
  },
  {
   "cell_type": "code",
   "execution_count": null,
   "metadata": {},
   "outputs": [],
   "source": [
    "print(data[\"villes\"].value_counts())\n",
    "PLT.pie(data[\"villes\"].value_counts(),labels=data[\"villes\"].unique(),autopct='%1.1f%%')\n",
    "PLT.show()"
   ]
  },
  {
   "cell_type": "markdown",
   "metadata": {},
   "source": [
    "We see here that we can order the dataset by the **'villes'** column since it is balanced around those values, with an even spread between all three of the cities found in that column : **Strasbourg**, **Paris** and **Lyon**."
   ]
  },
  {
   "cell_type": "code",
   "execution_count": null,
   "metadata": {},
   "outputs": [],
   "source": [
    "SNS.catplot(data=data,kind=\"bar\",x=\"villes\",y=\"Profit\")\n",
    "PLT.show()"
   ]
  },
  {
   "cell_type": "markdown",
   "metadata": {},
   "source": [
    "We can see from this graph that, at face value, the \"best\" city to operate from is **Lyon** since it boasts both the highest **average profit** and **maximum profit**."
   ]
  },
  {
   "cell_type": "code",
   "execution_count": null,
   "metadata": {},
   "outputs": [],
   "source": [
    "fig, ax = PLT.subplots(1,3,figsize=(18,9),sharey=True)\n",
    "SNS.boxenplot(data=data,y=\"R&D\",ax=ax[0])\n",
    "ax[0].set_xlabel(\"R&D\")\n",
    "ax[0].set_ylabel(\"\")\n",
    "SNS.boxenplot(data=data,y=\"Administration\",ax=ax[1])\n",
    "ax[1].set_xlabel(\"Administration\")\n",
    "ax[1].set_ylabel(\"\")\n",
    "SNS.boxenplot(data=data,y=\"Marketing\",ax=ax[2])\n",
    "ax[2].set_xlabel(\"Marketing\")\n",
    "ax[2].set_ylabel(\"\")\n",
    "PLT.show()"
   ]
  },
  {
   "cell_type": "markdown",
   "metadata": {},
   "source": [
    "By far, the highest budget allocation goes to the marketing department, it also demonstrates that there is a large variety of investment strategies for marketing whereas the budget for administration seems to have been figured out by most, as if they all shared a similar template; the same cannot be said for R&D but its overall budget remains the lowest across the board."
   ]
  },
  {
   "cell_type": "code",
   "execution_count": null,
   "metadata": {},
   "outputs": [],
   "source": [
    "data.corr()"
   ]
  },
  {
   "cell_type": "markdown",
   "metadata": {},
   "source": [
    "At first glance, we can see a strong correlation between R&D and Profit, a significant correlation between Marketing and Profit and almost none between Administration and Profit. This is not unexpected since the administration department cannot be expected to have as direct an impact on profit."
   ]
  },
  {
   "cell_type": "markdown",
   "metadata": {},
   "source": [
    "#### Study of correlations"
   ]
  },
  {
   "cell_type": "code",
   "execution_count": null,
   "metadata": {},
   "outputs": [],
   "source": [
    "SNS.heatmap(data.corr())\n",
    "PLT.show()"
   ]
  },
  {
   "cell_type": "code",
   "execution_count": null,
   "metadata": {},
   "outputs": [],
   "source": [
    "SNS.jointplot(x=\"R&D\",y=\"Profit\",kind=\"reg\",data=data)\n",
    "PLT.show()"
   ]
  },
  {
   "cell_type": "code",
   "execution_count": null,
   "metadata": {},
   "outputs": [],
   "source": [
    "SNS.jointplot(x=\"Administration\",y=\"Profit\",kind=\"reg\",data=data)\n",
    "PLT.show()"
   ]
  },
  {
   "cell_type": "code",
   "execution_count": null,
   "metadata": {},
   "outputs": [],
   "source": [
    "SNS.jointplot(x=\"Marketing\",y=\"Profit\",kind=\"reg\",data=data)\n",
    "PLT.show()"
   ]
  },
  {
   "cell_type": "code",
   "execution_count": null,
   "metadata": {},
   "outputs": [],
   "source": [
    "data[\"Budget\"] = data[\"R&D\"]+data[\"Administration\"]+data[\"Marketing\"]\n",
    "data.head()"
   ]
  },
  {
   "cell_type": "markdown",
   "metadata": {},
   "source": [
    "We decide to sum up all bugdets together in a new 'Budget' column to see the correlation between the overall budget of a startup and their profit. We expect a loss in precision in our model."
   ]
  },
  {
   "cell_type": "code",
   "execution_count": null,
   "metadata": {},
   "outputs": [],
   "source": [
    "SNS.jointplot(x=\"Budget\",y=\"Profit\",kind=\"reg\",data=data)\n",
    "PLT.show()"
   ]
  },
  {
   "cell_type": "markdown",
   "metadata": {},
   "source": [
    "Correlation with new features"
   ]
  },
  {
   "cell_type": "code",
   "execution_count": null,
   "metadata": {},
   "outputs": [],
   "source": [
    "data.corr()"
   ]
  },
  {
   "cell_type": "markdown",
   "metadata": {},
   "source": [
    "Expectedly, the idea that you need to 'spend money to make money' seems to be holding true, with an almost normal distribution of our values."
   ]
  },
  {
   "cell_type": "markdown",
   "metadata": {},
   "source": [
    "#### Linear Regression Model(s)"
   ]
  },
  {
   "cell_type": "markdown",
   "metadata": {},
   "source": [
    "##### Importing all machine learning libraries"
   ]
  },
  {
   "cell_type": "code",
   "execution_count": null,
   "metadata": {},
   "outputs": [],
   "source": [
    "from sklearn.linear_model import LinearRegression\n",
    "from sklearn.model_selection import train_test_split\n",
    "from sklearn.metrics import explained_variance_score, mean_absolute_error, mean_squared_error\n",
    "from sklearn.preprocessing import OneHotEncoder"
   ]
  },
  {
   "cell_type": "markdown",
   "metadata": {},
   "source": [
    "##### Choosing our features and target"
   ]
  },
  {
   "cell_type": "code",
   "execution_count": null,
   "metadata": {},
   "outputs": [],
   "source": [
    "LR = LinearRegression()\n",
    "X = data.loc[:,data.columns != 'Profit'].copy()\n",
    "ohe_encoder = OneHotEncoder(sparse=False, drop='first')\n",
    "encoded_villes = ohe_encoder.fit_transform(PD.DataFrame(data.loc[:,'villes']))\n",
    "encoded_villes_df = PD.DataFrame(encoded_villes, columns=ohe_encoder.get_feature_names_out())\n",
    "X = PD.concat([X,encoded_villes_df],axis=1).drop('villes',axis=1)\n",
    "#X.drop(\"villes\",axis=1,inplace=True)\n",
    "y = data['Profit'].copy()\n",
    "X.head()"
   ]
  },
  {
   "cell_type": "markdown",
   "metadata": {},
   "source": [
    "We have decided to encode and use the \"villes\" feature."
   ]
  },
  {
   "cell_type": "markdown",
   "metadata": {},
   "source": [
    "Creating the training and testing datasets"
   ]
  },
  {
   "cell_type": "code",
   "execution_count": null,
   "metadata": {},
   "outputs": [],
   "source": [
    "X_train, X_test, y_train, y_test = train_test_split(X,y,test_size=.3,random_state=666)"
   ]
  },
  {
   "cell_type": "markdown",
   "metadata": {},
   "source": [
    "##### Reinventing the wheel"
   ]
  },
  {
   "cell_type": "code",
   "execution_count": null,
   "metadata": {},
   "outputs": [],
   "source": [
    "def R2_AdjR2(y,f,nb_features):\n",
    "    p = nb_features\n",
    "    n = len(y)\n",
    "    SSres = 0\n",
    "    for i in range(n):\n",
    "        ei = y[i] - f[i]\n",
    "        SSres += ei**2\n",
    "    y_ = (1/n)*sum(y)\n",
    "    SStot = 0\n",
    "    for i in range(n):\n",
    "        SStot += (y[i]-y_)**2\n",
    "    R2 = 1 - (SSres/SStot)\n",
    "    dfe = n-p-1\n",
    "    dft = n-1\n",
    "    adj_R2 = 1 - (SSres/dfe)/(SStot/dft) # adj_R2 = 1 - (1-R2)*(n-1)/(n-p-1)\n",
    "    return R2, adj_R2"
   ]
  },
  {
   "cell_type": "markdown",
   "metadata": {},
   "source": [
    "##### Training and scoring the Linear Regression model"
   ]
  },
  {
   "cell_type": "code",
   "execution_count": null,
   "metadata": {},
   "outputs": [],
   "source": [
    "LR.fit(X_train,y_train)\n",
    "predictions = LR.predict(X_test)\n",
    "res_df = PD.DataFrame(dict(R_et_D=X_test[\"R&D\"],Administration=X_test['Administration'],Marketing=X_test['Marketing'], Budget=X_test['Budget'],Paris=X_test['villes_Paris'], Strasbourg=X_test['villes_Strasbourg'],y_true=y_test,y_pred=predictions))\n",
    "Y = NP.array(y_test)\n",
    "f = NP.array(predictions)\n",
    "R2, adj_R2 = R2_AdjR2(Y,f,LR.n_features_in_)\n",
    "print(f\"R²:\\n{R2}\\n\")\n",
    "print(f\"Adjusted R²:\\n{adj_R2}\\n\")\n",
    "print(f\"Explained Variance Score:\\n{explained_variance_score(y_test,predictions)}\\n\")\n",
    "print(f\"Coefficients:\\n{LR.coef_}\\n\")\n",
    "print(f\"MAE:\\n{mean_absolute_error(y_test, predictions)}\\n\")\n",
    "print(f\"MSE:\\n{mean_squared_error(y_test, predictions)}\\n\")\n",
    "print(f\"RMSE:\\n{mean_squared_error(y_test, predictions)**(1/2)}\")"
   ]
  },
  {
   "cell_type": "markdown",
   "metadata": {},
   "source": [
    "##### Comparing our predictions, for each feature, with the true values *(pink is prediction, green is true)*"
   ]
  },
  {
   "cell_type": "code",
   "execution_count": null,
   "metadata": {},
   "outputs": [],
   "source": [
    "fig, ax = PLT.subplots(1,4,figsize=(20,5), sharey=True)\n",
    "SNS.regplot(x=\"R_et_D\",y=\"y_pred\",data=res_df, ax=ax[0], color=\"#8F3975\")\n",
    "SNS.regplot(x=\"R_et_D\",y=\"y_true\",data=res_df, ax=ax[0], color=\"#398F53\")\n",
    "ax[0].set_ylabel(\"y_pred AND y_true\")\n",
    "\n",
    "SNS.regplot(x=\"Administration\",y=\"y_pred\",data=res_df, ax=ax[1], color=\"#8F3975\")\n",
    "SNS.regplot(x=\"Administration\",y=\"y_true\",data=res_df, ax=ax[1], color=\"#398F53\")\n",
    "ax[1].set_ylabel(\"\")\n",
    "\n",
    "SNS.regplot(x=\"Marketing\",y=\"y_pred\",data=res_df, ax=ax[2], color=\"#8F3975\")\n",
    "SNS.regplot(x=\"Marketing\",y=\"y_true\",data=res_df, ax=ax[2], color=\"#398F53\")\n",
    "ax[2].set_ylabel(\"\")\n",
    "\n",
    "SNS.regplot(x=\"Budget\",y=\"y_pred\",data=res_df, ax=ax[3], color=\"#8F3975\")\n",
    "SNS.regplot(x=\"Budget\",y=\"y_true\",data=res_df, ax=ax[3], color=\"#398F53\")\n",
    "ax[3].set_ylabel(\"\")\n",
    "PLT.show()"
   ]
  },
  {
   "cell_type": "markdown",
   "metadata": {},
   "source": [
    "These graphs show that the 'Administration' feature could be introducing some bias. \n",
    "We will confirm our intuition with several tests."
   ]
  },
  {
   "cell_type": "markdown",
   "metadata": {},
   "source": [
    "RFE"
   ]
  },
  {
   "cell_type": "code",
   "execution_count": null,
   "metadata": {},
   "outputs": [],
   "source": [
    "from sklearn.feature_selection import RFE\n",
    "from sklearn.tree import DecisionTreeRegressor\n",
    "from sklearn.svm import SVR\n",
    "\n",
    "estimator_svr = SVR(kernel=\"linear\")\n",
    "selector_svr = RFE(estimator_svr)\n",
    "selector_svr = selector_svr.fit(X, y)\n",
    "\n",
    "print(f'SVR:')\n",
    "print(f'{selector_svr.support_}')\n",
    "print(f'{selector_svr.ranking_}\\n')\n",
    "\n",
    "estimator_tree= DecisionTreeRegressor()\n",
    "selector_tree = RFE(estimator_tree)\n",
    "selector_tree = selector_tree.fit(X, y)\n",
    "\n",
    "print(f'Tree:')\n",
    "print(f'{selector_tree.support_}')\n",
    "print(f'{selector_tree.ranking_}')"
   ]
  },
  {
   "cell_type": "markdown",
   "metadata": {},
   "source": [
    "F-ANOVA"
   ]
  },
  {
   "cell_type": "code",
   "execution_count": null,
   "metadata": {},
   "outputs": [],
   "source": [
    "from sklearn.feature_selection import f_regression\n",
    "f_statistic, p_values = f_regression(X,y)\n",
    "print(f\"F values:\\n{f_statistic}\\n\")\n",
    "print(f\"P values:\\n{p_values}\")"
   ]
  },
  {
   "cell_type": "markdown",
   "metadata": {},
   "source": [
    "K-BEST"
   ]
  },
  {
   "cell_type": "code",
   "execution_count": null,
   "metadata": {},
   "outputs": [],
   "source": [
    "from sklearn.feature_selection import SelectKBest\n",
    "\n",
    "X_kbest = SelectKBest(f_regression, k=4).fit(X, y)\n",
    "print(X_kbest.get_feature_names_out())"
   ]
  },
  {
   "cell_type": "code",
   "execution_count": null,
   "metadata": {},
   "outputs": [],
   "source": [
    "X.drop(columns=['villes_Paris','villes_Strasbourg']).corr()"
   ]
  },
  {
   "cell_type": "markdown",
   "metadata": {},
   "source": [
    "After a few tests during our feature selection, we can remove the encoded columns, thus confirming our initial intuition that we should not be using the 'villes' column."
   ]
  },
  {
   "cell_type": "markdown",
   "metadata": {},
   "source": [
    "##### Training and scoring the Linear Regression model with the new set of features"
   ]
  },
  {
   "cell_type": "code",
   "execution_count": null,
   "metadata": {},
   "outputs": [],
   "source": [
    "LR_A = LinearRegression()\n",
    "Xa = X.drop(columns=['villes_Paris','villes_Strasbourg'])\n",
    "Xa_train, Xa_test, ya_train, ya_test = train_test_split(Xa,y,test_size=.3,random_state=666)\n",
    "LR_A.fit(Xa_train,ya_train)\n",
    "A_predictions = LR_A.predict(Xa_test)\n",
    "Y = NP.array(ya_test)\n",
    "f = NP.array(A_predictions)\n",
    "R2, adj_R2 = R2_AdjR2(Y,f,LR_A.n_features_in_)\n",
    "print(f\"R²:\\n{R2}\\n\")\n",
    "print(f\"Adjusted R²:\\n{adj_R2}\\n\")\n",
    "print(f\"Explained Variance Score:\\n{explained_variance_score(ya_test,A_predictions)}\\n\")\n",
    "print(f\"Coefficients:\\n{LR_A.coef_}\")\n",
    "print(f\"MAE:\\n{mean_absolute_error(ya_test, A_predictions)}\\n\")\n",
    "print(f\"MSE:\\n{mean_squared_error(ya_test, A_predictions)}\\n\")\n",
    "print(f\"RMSE:\\n{mean_squared_error(ya_test, A_predictions)**(1/2)}\")"
   ]
  },
  {
   "cell_type": "markdown",
   "metadata": {},
   "source": [
    "When compared with the previous **adjusted R² score** *(0.8622366684019128)* we see an improvement of ~3%; however, we have a feeling we can improve our model further.\n"
   ]
  },
  {
   "cell_type": "markdown",
   "metadata": {},
   "source": [
    "##### Second round of features selection"
   ]
  },
  {
   "cell_type": "code",
   "execution_count": null,
   "metadata": {},
   "outputs": [],
   "source": [
    "X_kbest = SelectKBest(f_regression, k=2).fit(Xa, y)\n",
    "print(X_kbest.get_feature_names_out())"
   ]
  },
  {
   "cell_type": "markdown",
   "metadata": {},
   "source": [
    "##### Training the new model"
   ]
  },
  {
   "cell_type": "code",
   "execution_count": null,
   "metadata": {},
   "outputs": [],
   "source": [
    "LR_B = LinearRegression()\n",
    "Xb = Xa.drop(columns=['Marketing','Administration'])\n",
    "Xb_train, Xb_test, yb_train, yb_test = train_test_split(Xb,y,test_size=.3,random_state=666)\n",
    "LR_B.fit(Xb_train,yb_train)\n",
    "B_predictions = LR_B.predict(Xb_test)\n",
    "Y = NP.array(yb_test)\n",
    "f = NP.array(B_predictions)\n",
    "R2, adj_R2 = R2_AdjR2(Y,f,LR_B.n_features_in_)\n",
    "print(f\"R²:\\n{R2}\\n\")\n",
    "print(f\"Adjusted R²:\\n{adj_R2}\\n\")\n",
    "print(f\"Explained Variance Score:\\n{explained_variance_score(yb_test,B_predictions)}\\n\")\n",
    "print(f\"Coefficients:\\n{LR_A.coef_}\")\n",
    "print(f\"MAE:\\n{mean_absolute_error(yb_test, B_predictions)}\\n\")\n",
    "print(f\"MSE:\\n{mean_squared_error(yb_test, B_predictions)}\\n\")\n",
    "print(f\"RMSE:\\n{mean_squared_error(yb_test, B_predictions)**(1/2)}\")"
   ]
  },
  {
   "cell_type": "markdown",
   "metadata": {},
   "source": [
    "When compared with the previous **adjusted R² score** *(0.8986509064888631)* we see an improvement of ~3% again; however, with the model down to only two features, we can't go any further."
   ]
  },
  {
   "cell_type": "markdown",
   "metadata": {},
   "source": [
    "The new model is **objectively** better, thus we'll use it for the prediction."
   ]
  },
  {
   "cell_type": "code",
   "execution_count": null,
   "metadata": {},
   "outputs": [],
   "source": [
    "R_n_D_budget = 65135\n",
    "Marketing_budget = 353000\n",
    "Administration_budget = 150000\n",
    "Budget_budget = R_n_D_budget + Marketing_budget + Administration_budget\n",
    "\n",
    "big_dict = {\"R&D\":R_n_D_budget,\"Budget\":Budget_budget}\n",
    "x_try = PD.DataFrame(big_dict, index=[0])\n",
    "x_try.head()"
   ]
  },
  {
   "cell_type": "code",
   "execution_count": null,
   "metadata": {},
   "outputs": [],
   "source": [
    "try_predict = LR_B.predict(x_try)\n",
    "print(try_predict)"
   ]
  },
  {
   "cell_type": "markdown",
   "metadata": {},
   "source": [
    "### Rapport"
   ]
  },
  {
   "cell_type": "markdown",
   "metadata": {},
   "source": [
    "- **Nom:** Victorino, Thiberino\n",
    "- **Date:** Oui.\n",
    "- **Cible client:** Non. \n",
    "\n",
    "**Contexte:**\n",
    "> \"La BPI France dispose d'un fond d'investissement qu'elle voudrait utiliser pour investir dans les start'up de demain les plus\n",
    "prometteuses. Seulement elle ne sait pas comment les sélectionner. \n",
    "Faut-il investir dans celles qui dépensent le plus en marketing? en recherche et développement? dans quelles villes les startups semblent mieux opérer? Elle fait donc appel à vous pour y voir plus clair...\"\n",
    "\n",
    "**Objectif:**\n",
    "> \"Vous devez donc concevoir un modèle de régression linéaire multiple qui permettra à la BPI d'une part de sélectionner les 5\n",
    "start'up les plus prometteuses et d'autre part de déterminer dans quel(s) secteur(s) il serait le plus judicieux de répartir les\n",
    "budgets de dépenses.\""
   ]
  },
  {
   "cell_type": "markdown",
   "metadata": {},
   "source": [
    "*Faut -il investir dans les entreprises qui dépensent le plus en marketing ou en recherche et développement?*"
   ]
  },
  {
   "cell_type": "code",
   "execution_count": null,
   "metadata": {},
   "outputs": [],
   "source": [
    "data_1 = data.copy()\n",
    "data_1.drop(\"Administration\",axis=1,inplace=True)\n",
    "data_1.drop(\"villes\",axis=1,inplace=True)\n",
    "data_1.drop(\"Budget\",axis=1,inplace=True)\n",
    "data_1.sort_values(by=\"Profit\",ascending=False)\n",
    "print(f\"Max Marketing:\\n{data_1['Marketing'].max()}\")\n",
    "print(f\"Max R&D:\\n{data_1['R&D'].max()}\")\n",
    "data_1.head()"
   ]
  },
  {
   "cell_type": "markdown",
   "metadata": {},
   "source": [
    "Au vu de la forte correlation entre ces deux features, investir dans l'un ou l'autre ménera à l'augmentation des profits."
   ]
  },
  {
   "cell_type": "markdown",
   "metadata": {},
   "source": [
    "*Dans quelles villes les startups semblent elles mieux opérer?*"
   ]
  },
  {
   "cell_type": "code",
   "execution_count": null,
   "metadata": {},
   "outputs": [],
   "source": [
    "SNS.catplot(data=data,kind=\"bar\",x=\"villes\",y=\"Profit\")\n",
    "PLT.show()"
   ]
  },
  {
   "cell_type": "markdown",
   "metadata": {},
   "source": [
    "Lyon est plus profitable que Paris qui est plus profitable que Strasbourg."
   ]
  },
  {
   "cell_type": "markdown",
   "metadata": {},
   "source": [
    "En conclusion, si les postes de dépenses sont fortement corrélés avec le profit, il est presque assuré que le profit augmente si le budget augmente *(dans des conditions idéales)*. Investir dans le R&D offre un meilleur retour sur investissement."
   ]
  }
 ],
 "metadata": {
  "interpreter": {
   "hash": "418043d80c7e94728566721811e15fd5762b3b96a67316aeb5d3b63d3e6f83b4"
  },
  "kernelspec": {
   "display_name": "Python 3.8.0 ('venv': venv)",
   "language": "python",
   "name": "python3"
  },
  "language_info": {
   "codemirror_mode": {
    "name": "ipython",
    "version": 3
   },
   "file_extension": ".py",
   "mimetype": "text/x-python",
   "name": "python",
   "nbconvert_exporter": "python",
   "pygments_lexer": "ipython3",
   "version": "3.10.2"
  },
  "orig_nbformat": 4
 },
 "nbformat": 4,
 "nbformat_minor": 2
}
